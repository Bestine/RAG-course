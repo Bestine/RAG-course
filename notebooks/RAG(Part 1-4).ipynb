{
 "cells": [
  {
   "cell_type": "markdown",
   "id": "5f1aa1b7-7bc8-40b5-be8d-f4404983e20b",
   "metadata": {},
   "source": [
    "# Retrieval Augmented Generation \n",
    "## Overview"
   ]
  },
  {
   "cell_type": "markdown",
   "id": "59beb724-93c0-4eff-91ae-8c17c0eae1d7",
   "metadata": {},
   "source": [
    "Lets walk through a simple process of building RAG from scratch before diving into details. The image below describe all waht RAG entails. \n",
    "\n",
    "![](images/RAG-overview.png)"
   ]
  },
  {
   "cell_type": "markdown",
   "id": "41736ca3-919a-4445-bc58-f2f824743cf2",
   "metadata": {},
   "source": [
    "**Set up the Environment Variables** \n",
    "\n",
    "Ensure you have set up your virtual environment(not a must) and have all the dependencies installed(described in the `README.md` file). Just simply run the below command on tour terminal; \n",
    "```bash\n",
    "pip install -r requirements.txt\n",
    "```\n",
    "\n",
    "The you will be required to visit [here](https://docs.smith.langchain.com/) to retrieve environment variables "
   ]
  },
  {
   "cell_type": "code",
   "execution_count": 1,
   "id": "39fdd54e-f5f3-4f67-8ad2-a0e267370804",
   "metadata": {},
   "outputs": [],
   "source": [
    "import os\n",
    "os.environ['LANGCHAIN_TRACING_V2'] = 'true'\n",
    "os.environ['LANGCHAIN_ENDPOINT'] = 'https://api.smith.langchain.com'\n",
    "os.environ['LANGCHAIN_API_KEY'] = 'find in the security environment'"
   ]
  },
  {
   "cell_type": "markdown",
   "id": "0bd7b674-36eb-4567-8278-165ae980ab3f",
   "metadata": {},
   "source": [
    "**Code Walkthrough**"
   ]
  },
  {
   "cell_type": "code",
   "execution_count": 8,
   "id": "4dceb4ad-d651-4684-829f-0b1eb7c99596",
   "metadata": {},
   "outputs": [
    {
     "name": "stdout",
     "output_type": "stream",
     "text": [
      "Requirement already satisfied: tiktoken in /home/the-ape/anaconda3/lib/python3.12/site-packages (from -r requirements.txt (line 1)) (0.9.0)\n",
      "Requirement already satisfied: langchain-openai in /home/the-ape/anaconda3/lib/python3.12/site-packages (from -r requirements.txt (line 2)) (0.3.14)\n",
      "Requirement already satisfied: langchainhub in /home/the-ape/anaconda3/lib/python3.12/site-packages (from -r requirements.txt (line 3)) (0.1.21)\n",
      "Requirement already satisfied: chromadb in /home/the-ape/anaconda3/lib/python3.12/site-packages (from -r requirements.txt (line 4)) (1.0.7)\n",
      "Requirement already satisfied: langchain in /home/the-ape/anaconda3/lib/python3.12/site-packages (from -r requirements.txt (line 5)) (0.3.24)\n",
      "Collecting langchain_community (from -r requirements.txt (line 6))\n",
      "  Downloading langchain_community-0.3.23-py3-none-any.whl.metadata (2.5 kB)\n",
      "Requirement already satisfied: regex>=2022.1.18 in /home/the-ape/anaconda3/lib/python3.12/site-packages (from tiktoken->-r requirements.txt (line 1)) (2024.11.6)\n",
      "Requirement already satisfied: requests>=2.26.0 in /home/the-ape/anaconda3/lib/python3.12/site-packages (from tiktoken->-r requirements.txt (line 1)) (2.32.3)\n",
      "Requirement already satisfied: langchain-core<1.0.0,>=0.3.53 in /home/the-ape/anaconda3/lib/python3.12/site-packages (from langchain-openai->-r requirements.txt (line 2)) (0.3.56)\n",
      "Requirement already satisfied: openai<2.0.0,>=1.68.2 in /home/the-ape/anaconda3/lib/python3.12/site-packages (from langchain-openai->-r requirements.txt (line 2)) (1.76.2)\n",
      "Requirement already satisfied: packaging<25,>=23.2 in /home/the-ape/anaconda3/lib/python3.12/site-packages (from langchainhub->-r requirements.txt (line 3)) (24.2)\n",
      "Requirement already satisfied: types-requests<3.0.0.0,>=2.31.0.2 in /home/the-ape/anaconda3/lib/python3.12/site-packages (from langchainhub->-r requirements.txt (line 3)) (2.32.0.20250328)\n",
      "Requirement already satisfied: build>=1.0.3 in /home/the-ape/anaconda3/lib/python3.12/site-packages (from chromadb->-r requirements.txt (line 4)) (1.2.2.post1)\n",
      "Requirement already satisfied: pydantic>=1.9 in /home/the-ape/anaconda3/lib/python3.12/site-packages (from chromadb->-r requirements.txt (line 4)) (2.10.3)\n",
      "Requirement already satisfied: chroma-hnswlib==0.7.6 in /home/the-ape/anaconda3/lib/python3.12/site-packages (from chromadb->-r requirements.txt (line 4)) (0.7.6)\n",
      "Requirement already satisfied: fastapi==0.115.9 in /home/the-ape/anaconda3/lib/python3.12/site-packages (from chromadb->-r requirements.txt (line 4)) (0.115.9)\n",
      "Requirement already satisfied: uvicorn>=0.18.3 in /home/the-ape/anaconda3/lib/python3.12/site-packages (from uvicorn[standard]>=0.18.3->chromadb->-r requirements.txt (line 4)) (0.34.2)\n",
      "Requirement already satisfied: numpy>=1.22.5 in /home/the-ape/anaconda3/lib/python3.12/site-packages (from chromadb->-r requirements.txt (line 4)) (1.26.4)\n",
      "Requirement already satisfied: posthog>=2.4.0 in /home/the-ape/anaconda3/lib/python3.12/site-packages (from chromadb->-r requirements.txt (line 4)) (4.0.1)\n",
      "Requirement already satisfied: typing-extensions>=4.5.0 in /home/the-ape/anaconda3/lib/python3.12/site-packages (from chromadb->-r requirements.txt (line 4)) (4.12.2)\n",
      "Requirement already satisfied: onnxruntime>=1.14.1 in /home/the-ape/anaconda3/lib/python3.12/site-packages (from chromadb->-r requirements.txt (line 4)) (1.21.1)\n",
      "Requirement already satisfied: opentelemetry-api>=1.2.0 in /home/the-ape/anaconda3/lib/python3.12/site-packages (from chromadb->-r requirements.txt (line 4)) (1.32.1)\n",
      "Requirement already satisfied: opentelemetry-exporter-otlp-proto-grpc>=1.2.0 in /home/the-ape/anaconda3/lib/python3.12/site-packages (from chromadb->-r requirements.txt (line 4)) (1.32.1)\n",
      "Requirement already satisfied: opentelemetry-instrumentation-fastapi>=0.41b0 in /home/the-ape/anaconda3/lib/python3.12/site-packages (from chromadb->-r requirements.txt (line 4)) (0.53b1)\n",
      "Requirement already satisfied: opentelemetry-sdk>=1.2.0 in /home/the-ape/anaconda3/lib/python3.12/site-packages (from chromadb->-r requirements.txt (line 4)) (1.32.1)\n",
      "Requirement already satisfied: tokenizers>=0.13.2 in /home/the-ape/anaconda3/lib/python3.12/site-packages (from chromadb->-r requirements.txt (line 4)) (0.21.1)\n",
      "Requirement already satisfied: pypika>=0.48.9 in /home/the-ape/anaconda3/lib/python3.12/site-packages (from chromadb->-r requirements.txt (line 4)) (0.48.9)\n",
      "Requirement already satisfied: tqdm>=4.65.0 in /home/the-ape/anaconda3/lib/python3.12/site-packages (from chromadb->-r requirements.txt (line 4)) (4.67.1)\n",
      "Requirement already satisfied: overrides>=7.3.1 in /home/the-ape/anaconda3/lib/python3.12/site-packages (from chromadb->-r requirements.txt (line 4)) (7.4.0)\n",
      "Requirement already satisfied: importlib-resources in /home/the-ape/anaconda3/lib/python3.12/site-packages (from chromadb->-r requirements.txt (line 4)) (6.5.2)\n",
      "Requirement already satisfied: grpcio>=1.58.0 in /home/the-ape/anaconda3/lib/python3.12/site-packages (from chromadb->-r requirements.txt (line 4)) (1.71.0)\n",
      "Requirement already satisfied: bcrypt>=4.0.1 in /home/the-ape/anaconda3/lib/python3.12/site-packages (from chromadb->-r requirements.txt (line 4)) (4.3.0)\n",
      "Requirement already satisfied: typer>=0.9.0 in /home/the-ape/anaconda3/lib/python3.12/site-packages (from chromadb->-r requirements.txt (line 4)) (0.9.0)\n",
      "Requirement already satisfied: kubernetes>=28.1.0 in /home/the-ape/anaconda3/lib/python3.12/site-packages (from chromadb->-r requirements.txt (line 4)) (32.0.1)\n",
      "Requirement already satisfied: tenacity>=8.2.3 in /home/the-ape/anaconda3/lib/python3.12/site-packages (from chromadb->-r requirements.txt (line 4)) (9.0.0)\n",
      "Requirement already satisfied: pyyaml>=6.0.0 in /home/the-ape/anaconda3/lib/python3.12/site-packages (from chromadb->-r requirements.txt (line 4)) (6.0.2)\n",
      "Requirement already satisfied: mmh3>=4.0.1 in /home/the-ape/anaconda3/lib/python3.12/site-packages (from chromadb->-r requirements.txt (line 4)) (5.1.0)\n",
      "Requirement already satisfied: orjson>=3.9.12 in /home/the-ape/anaconda3/lib/python3.12/site-packages (from chromadb->-r requirements.txt (line 4)) (3.10.18)\n",
      "Requirement already satisfied: httpx>=0.27.0 in /home/the-ape/anaconda3/lib/python3.12/site-packages (from chromadb->-r requirements.txt (line 4)) (0.27.0)\n",
      "Requirement already satisfied: rich>=10.11.0 in /home/the-ape/anaconda3/lib/python3.12/site-packages (from chromadb->-r requirements.txt (line 4)) (13.9.4)\n",
      "Requirement already satisfied: jsonschema>=4.19.0 in /home/the-ape/anaconda3/lib/python3.12/site-packages (from chromadb->-r requirements.txt (line 4)) (4.23.0)\n",
      "Requirement already satisfied: starlette<0.46.0,>=0.40.0 in /home/the-ape/anaconda3/lib/python3.12/site-packages (from fastapi==0.115.9->chromadb->-r requirements.txt (line 4)) (0.45.3)\n",
      "Requirement already satisfied: langchain-text-splitters<1.0.0,>=0.3.8 in /home/the-ape/anaconda3/lib/python3.12/site-packages (from langchain->-r requirements.txt (line 5)) (0.3.8)\n",
      "Requirement already satisfied: langsmith<0.4,>=0.1.17 in /home/the-ape/anaconda3/lib/python3.12/site-packages (from langchain->-r requirements.txt (line 5)) (0.3.38)\n",
      "Requirement already satisfied: SQLAlchemy<3,>=1.4 in /home/the-ape/anaconda3/lib/python3.12/site-packages (from langchain->-r requirements.txt (line 5)) (2.0.37)\n",
      "Requirement already satisfied: aiohttp<4.0.0,>=3.8.3 in /home/the-ape/anaconda3/lib/python3.12/site-packages (from langchain_community->-r requirements.txt (line 6)) (3.11.10)\n",
      "Collecting dataclasses-json<0.7,>=0.5.7 (from langchain_community->-r requirements.txt (line 6))\n",
      "  Using cached dataclasses_json-0.6.7-py3-none-any.whl.metadata (25 kB)\n",
      "Requirement already satisfied: pydantic-settings<3.0.0,>=2.4.0 in /home/the-ape/anaconda3/lib/python3.12/site-packages (from langchain_community->-r requirements.txt (line 6)) (2.6.1)\n",
      "Collecting httpx-sse<1.0.0,>=0.4.0 (from langchain_community->-r requirements.txt (line 6))\n",
      "  Using cached httpx_sse-0.4.0-py3-none-any.whl.metadata (9.0 kB)\n",
      "Requirement already satisfied: aiohappyeyeballs>=2.3.0 in /home/the-ape/anaconda3/lib/python3.12/site-packages (from aiohttp<4.0.0,>=3.8.3->langchain_community->-r requirements.txt (line 6)) (2.4.4)\n",
      "Requirement already satisfied: aiosignal>=1.1.2 in /home/the-ape/anaconda3/lib/python3.12/site-packages (from aiohttp<4.0.0,>=3.8.3->langchain_community->-r requirements.txt (line 6)) (1.2.0)\n",
      "Requirement already satisfied: attrs>=17.3.0 in /home/the-ape/anaconda3/lib/python3.12/site-packages (from aiohttp<4.0.0,>=3.8.3->langchain_community->-r requirements.txt (line 6)) (24.3.0)\n",
      "Requirement already satisfied: frozenlist>=1.1.1 in /home/the-ape/anaconda3/lib/python3.12/site-packages (from aiohttp<4.0.0,>=3.8.3->langchain_community->-r requirements.txt (line 6)) (1.5.0)\n",
      "Requirement already satisfied: multidict<7.0,>=4.5 in /home/the-ape/anaconda3/lib/python3.12/site-packages (from aiohttp<4.0.0,>=3.8.3->langchain_community->-r requirements.txt (line 6)) (6.1.0)\n",
      "Requirement already satisfied: propcache>=0.2.0 in /home/the-ape/anaconda3/lib/python3.12/site-packages (from aiohttp<4.0.0,>=3.8.3->langchain_community->-r requirements.txt (line 6)) (0.2.0)\n",
      "Requirement already satisfied: yarl<2.0,>=1.17.0 in /home/the-ape/anaconda3/lib/python3.12/site-packages (from aiohttp<4.0.0,>=3.8.3->langchain_community->-r requirements.txt (line 6)) (1.18.0)\n",
      "Requirement already satisfied: pyproject_hooks in /home/the-ape/anaconda3/lib/python3.12/site-packages (from build>=1.0.3->chromadb->-r requirements.txt (line 4)) (1.2.0)\n",
      "Collecting marshmallow<4.0.0,>=3.18.0 (from dataclasses-json<0.7,>=0.5.7->langchain_community->-r requirements.txt (line 6))\n",
      "  Using cached marshmallow-3.26.1-py3-none-any.whl.metadata (7.3 kB)\n",
      "Collecting typing-inspect<1,>=0.4.0 (from dataclasses-json<0.7,>=0.5.7->langchain_community->-r requirements.txt (line 6))\n",
      "  Using cached typing_inspect-0.9.0-py3-none-any.whl.metadata (1.5 kB)\n",
      "Requirement already satisfied: anyio in /home/the-ape/anaconda3/lib/python3.12/site-packages (from httpx>=0.27.0->chromadb->-r requirements.txt (line 4)) (4.6.2)\n",
      "Requirement already satisfied: certifi in /home/the-ape/anaconda3/lib/python3.12/site-packages (from httpx>=0.27.0->chromadb->-r requirements.txt (line 4)) (2025.1.31)\n",
      "Requirement already satisfied: httpcore==1.* in /home/the-ape/anaconda3/lib/python3.12/site-packages (from httpx>=0.27.0->chromadb->-r requirements.txt (line 4)) (1.0.2)\n",
      "Requirement already satisfied: idna in /home/the-ape/anaconda3/lib/python3.12/site-packages (from httpx>=0.27.0->chromadb->-r requirements.txt (line 4)) (3.7)\n",
      "Requirement already satisfied: sniffio in /home/the-ape/anaconda3/lib/python3.12/site-packages (from httpx>=0.27.0->chromadb->-r requirements.txt (line 4)) (1.3.0)\n",
      "Requirement already satisfied: h11<0.15,>=0.13 in /home/the-ape/anaconda3/lib/python3.12/site-packages (from httpcore==1.*->httpx>=0.27.0->chromadb->-r requirements.txt (line 4)) (0.14.0)\n",
      "Requirement already satisfied: jsonschema-specifications>=2023.03.6 in /home/the-ape/anaconda3/lib/python3.12/site-packages (from jsonschema>=4.19.0->chromadb->-r requirements.txt (line 4)) (2023.7.1)\n",
      "Requirement already satisfied: referencing>=0.28.4 in /home/the-ape/anaconda3/lib/python3.12/site-packages (from jsonschema>=4.19.0->chromadb->-r requirements.txt (line 4)) (0.30.2)\n",
      "Requirement already satisfied: rpds-py>=0.7.1 in /home/the-ape/anaconda3/lib/python3.12/site-packages (from jsonschema>=4.19.0->chromadb->-r requirements.txt (line 4)) (0.22.3)\n",
      "Requirement already satisfied: six>=1.9.0 in /home/the-ape/anaconda3/lib/python3.12/site-packages (from kubernetes>=28.1.0->chromadb->-r requirements.txt (line 4)) (1.16.0)\n",
      "Requirement already satisfied: python-dateutil>=2.5.3 in /home/the-ape/anaconda3/lib/python3.12/site-packages (from kubernetes>=28.1.0->chromadb->-r requirements.txt (line 4)) (2.9.0.post0)\n",
      "Requirement already satisfied: google-auth>=1.0.1 in /home/the-ape/anaconda3/lib/python3.12/site-packages (from kubernetes>=28.1.0->chromadb->-r requirements.txt (line 4)) (2.39.0)\n",
      "Requirement already satisfied: websocket-client!=0.40.0,!=0.41.*,!=0.42.*,>=0.32.0 in /home/the-ape/anaconda3/lib/python3.12/site-packages (from kubernetes>=28.1.0->chromadb->-r requirements.txt (line 4)) (1.8.0)\n",
      "Requirement already satisfied: requests-oauthlib in /home/the-ape/anaconda3/lib/python3.12/site-packages (from kubernetes>=28.1.0->chromadb->-r requirements.txt (line 4)) (2.0.0)\n",
      "Requirement already satisfied: oauthlib>=3.2.2 in /home/the-ape/anaconda3/lib/python3.12/site-packages (from kubernetes>=28.1.0->chromadb->-r requirements.txt (line 4)) (3.2.2)\n",
      "Requirement already satisfied: urllib3>=1.24.2 in /home/the-ape/anaconda3/lib/python3.12/site-packages (from kubernetes>=28.1.0->chromadb->-r requirements.txt (line 4)) (2.3.0)\n",
      "Requirement already satisfied: durationpy>=0.7 in /home/the-ape/anaconda3/lib/python3.12/site-packages (from kubernetes>=28.1.0->chromadb->-r requirements.txt (line 4)) (0.9)\n",
      "Requirement already satisfied: jsonpatch<2.0,>=1.33 in /home/the-ape/anaconda3/lib/python3.12/site-packages (from langchain-core<1.0.0,>=0.3.53->langchain-openai->-r requirements.txt (line 2)) (1.33)\n",
      "Requirement already satisfied: requests-toolbelt<2.0.0,>=1.0.0 in /home/the-ape/anaconda3/lib/python3.12/site-packages (from langsmith<0.4,>=0.1.17->langchain->-r requirements.txt (line 5)) (1.0.0)\n",
      "Requirement already satisfied: zstandard<0.24.0,>=0.23.0 in /home/the-ape/anaconda3/lib/python3.12/site-packages (from langsmith<0.4,>=0.1.17->langchain->-r requirements.txt (line 5)) (0.23.0)\n",
      "Requirement already satisfied: coloredlogs in /home/the-ape/anaconda3/lib/python3.12/site-packages (from onnxruntime>=1.14.1->chromadb->-r requirements.txt (line 4)) (15.0.1)\n",
      "Requirement already satisfied: flatbuffers in /home/the-ape/anaconda3/lib/python3.12/site-packages (from onnxruntime>=1.14.1->chromadb->-r requirements.txt (line 4)) (25.2.10)\n",
      "Requirement already satisfied: protobuf in /home/the-ape/anaconda3/lib/python3.12/site-packages (from onnxruntime>=1.14.1->chromadb->-r requirements.txt (line 4)) (5.29.4)\n",
      "Requirement already satisfied: sympy in /home/the-ape/anaconda3/lib/python3.12/site-packages (from onnxruntime>=1.14.1->chromadb->-r requirements.txt (line 4)) (1.13.1)\n",
      "Requirement already satisfied: distro<2,>=1.7.0 in /home/the-ape/anaconda3/lib/python3.12/site-packages (from openai<2.0.0,>=1.68.2->langchain-openai->-r requirements.txt (line 2)) (1.9.0)\n",
      "Requirement already satisfied: jiter<1,>=0.4.0 in /home/the-ape/anaconda3/lib/python3.12/site-packages (from openai<2.0.0,>=1.68.2->langchain-openai->-r requirements.txt (line 2)) (0.9.0)\n",
      "Requirement already satisfied: deprecated>=1.2.6 in /home/the-ape/anaconda3/lib/python3.12/site-packages (from opentelemetry-api>=1.2.0->chromadb->-r requirements.txt (line 4)) (1.2.13)\n",
      "Requirement already satisfied: importlib-metadata<8.7.0,>=6.0 in /home/the-ape/anaconda3/lib/python3.12/site-packages (from opentelemetry-api>=1.2.0->chromadb->-r requirements.txt (line 4)) (8.5.0)\n",
      "Requirement already satisfied: googleapis-common-protos~=1.52 in /home/the-ape/anaconda3/lib/python3.12/site-packages (from opentelemetry-exporter-otlp-proto-grpc>=1.2.0->chromadb->-r requirements.txt (line 4)) (1.70.0)\n",
      "Requirement already satisfied: opentelemetry-exporter-otlp-proto-common==1.32.1 in /home/the-ape/anaconda3/lib/python3.12/site-packages (from opentelemetry-exporter-otlp-proto-grpc>=1.2.0->chromadb->-r requirements.txt (line 4)) (1.32.1)\n",
      "Requirement already satisfied: opentelemetry-proto==1.32.1 in /home/the-ape/anaconda3/lib/python3.12/site-packages (from opentelemetry-exporter-otlp-proto-grpc>=1.2.0->chromadb->-r requirements.txt (line 4)) (1.32.1)\n",
      "Requirement already satisfied: opentelemetry-instrumentation-asgi==0.53b1 in /home/the-ape/anaconda3/lib/python3.12/site-packages (from opentelemetry-instrumentation-fastapi>=0.41b0->chromadb->-r requirements.txt (line 4)) (0.53b1)\n",
      "Requirement already satisfied: opentelemetry-instrumentation==0.53b1 in /home/the-ape/anaconda3/lib/python3.12/site-packages (from opentelemetry-instrumentation-fastapi>=0.41b0->chromadb->-r requirements.txt (line 4)) (0.53b1)\n",
      "Requirement already satisfied: opentelemetry-semantic-conventions==0.53b1 in /home/the-ape/anaconda3/lib/python3.12/site-packages (from opentelemetry-instrumentation-fastapi>=0.41b0->chromadb->-r requirements.txt (line 4)) (0.53b1)\n",
      "Requirement already satisfied: opentelemetry-util-http==0.53b1 in /home/the-ape/anaconda3/lib/python3.12/site-packages (from opentelemetry-instrumentation-fastapi>=0.41b0->chromadb->-r requirements.txt (line 4)) (0.53b1)\n",
      "Requirement already satisfied: wrapt<2.0.0,>=1.0.0 in /home/the-ape/anaconda3/lib/python3.12/site-packages (from opentelemetry-instrumentation==0.53b1->opentelemetry-instrumentation-fastapi>=0.41b0->chromadb->-r requirements.txt (line 4)) (1.17.0)\n",
      "Requirement already satisfied: asgiref~=3.0 in /home/the-ape/anaconda3/lib/python3.12/site-packages (from opentelemetry-instrumentation-asgi==0.53b1->opentelemetry-instrumentation-fastapi>=0.41b0->chromadb->-r requirements.txt (line 4)) (3.8.1)\n",
      "Requirement already satisfied: backoff>=1.10.0 in /home/the-ape/anaconda3/lib/python3.12/site-packages (from posthog>=2.4.0->chromadb->-r requirements.txt (line 4)) (2.2.1)\n",
      "Requirement already satisfied: annotated-types>=0.6.0 in /home/the-ape/anaconda3/lib/python3.12/site-packages (from pydantic>=1.9->chromadb->-r requirements.txt (line 4)) (0.6.0)\n",
      "Requirement already satisfied: pydantic-core==2.27.1 in /home/the-ape/anaconda3/lib/python3.12/site-packages (from pydantic>=1.9->chromadb->-r requirements.txt (line 4)) (2.27.1)\n",
      "Requirement already satisfied: python-dotenv>=0.21.0 in /home/the-ape/anaconda3/lib/python3.12/site-packages (from pydantic-settings<3.0.0,>=2.4.0->langchain_community->-r requirements.txt (line 6)) (0.21.0)\n",
      "Requirement already satisfied: charset-normalizer<4,>=2 in /home/the-ape/anaconda3/lib/python3.12/site-packages (from requests>=2.26.0->tiktoken->-r requirements.txt (line 1)) (3.3.2)\n",
      "Requirement already satisfied: markdown-it-py>=2.2.0 in /home/the-ape/anaconda3/lib/python3.12/site-packages (from rich>=10.11.0->chromadb->-r requirements.txt (line 4)) (2.2.0)\n",
      "Requirement already satisfied: pygments<3.0.0,>=2.13.0 in /home/the-ape/anaconda3/lib/python3.12/site-packages (from rich>=10.11.0->chromadb->-r requirements.txt (line 4)) (2.15.1)\n",
      "Requirement already satisfied: greenlet!=0.4.17 in /home/the-ape/anaconda3/lib/python3.12/site-packages (from SQLAlchemy<3,>=1.4->langchain->-r requirements.txt (line 5)) (3.1.1)\n",
      "Requirement already satisfied: huggingface-hub<1.0,>=0.16.4 in /home/the-ape/anaconda3/lib/python3.12/site-packages (from tokenizers>=0.13.2->chromadb->-r requirements.txt (line 4)) (0.30.2)\n",
      "Requirement already satisfied: click<9.0.0,>=7.1.1 in /home/the-ape/anaconda3/lib/python3.12/site-packages (from typer>=0.9.0->chromadb->-r requirements.txt (line 4)) (8.1.7)\n",
      "Requirement already satisfied: httptools>=0.6.3 in /home/the-ape/anaconda3/lib/python3.12/site-packages (from uvicorn[standard]>=0.18.3->chromadb->-r requirements.txt (line 4)) (0.6.4)\n",
      "Requirement already satisfied: uvloop!=0.15.0,!=0.15.1,>=0.14.0 in /home/the-ape/anaconda3/lib/python3.12/site-packages (from uvicorn[standard]>=0.18.3->chromadb->-r requirements.txt (line 4)) (0.21.0)\n",
      "Requirement already satisfied: watchfiles>=0.13 in /home/the-ape/anaconda3/lib/python3.12/site-packages (from uvicorn[standard]>=0.18.3->chromadb->-r requirements.txt (line 4)) (1.0.5)\n",
      "Requirement already satisfied: websockets>=10.4 in /home/the-ape/anaconda3/lib/python3.12/site-packages (from uvicorn[standard]>=0.18.3->chromadb->-r requirements.txt (line 4)) (15.0.1)\n",
      "Requirement already satisfied: cachetools<6.0,>=2.0.0 in /home/the-ape/anaconda3/lib/python3.12/site-packages (from google-auth>=1.0.1->kubernetes>=28.1.0->chromadb->-r requirements.txt (line 4)) (5.5.1)\n",
      "Requirement already satisfied: pyasn1-modules>=0.2.1 in /home/the-ape/anaconda3/lib/python3.12/site-packages (from google-auth>=1.0.1->kubernetes>=28.1.0->chromadb->-r requirements.txt (line 4)) (0.2.8)\n",
      "Requirement already satisfied: rsa<5,>=3.1.4 in /home/the-ape/anaconda3/lib/python3.12/site-packages (from google-auth>=1.0.1->kubernetes>=28.1.0->chromadb->-r requirements.txt (line 4)) (4.9.1)\n",
      "Requirement already satisfied: filelock in /home/the-ape/anaconda3/lib/python3.12/site-packages (from huggingface-hub<1.0,>=0.16.4->tokenizers>=0.13.2->chromadb->-r requirements.txt (line 4)) (3.18.0)\n",
      "Requirement already satisfied: fsspec>=2023.5.0 in /home/the-ape/anaconda3/lib/python3.12/site-packages (from huggingface-hub<1.0,>=0.16.4->tokenizers>=0.13.2->chromadb->-r requirements.txt (line 4)) (2024.12.0)\n",
      "Requirement already satisfied: zipp>=3.20 in /home/the-ape/anaconda3/lib/python3.12/site-packages (from importlib-metadata<8.7.0,>=6.0->opentelemetry-api>=1.2.0->chromadb->-r requirements.txt (line 4)) (3.21.0)\n",
      "Requirement already satisfied: jsonpointer>=1.9 in /home/the-ape/anaconda3/lib/python3.12/site-packages (from jsonpatch<2.0,>=1.33->langchain-core<1.0.0,>=0.3.53->langchain-openai->-r requirements.txt (line 2)) (2.1)\n",
      "Requirement already satisfied: mdurl~=0.1 in /home/the-ape/anaconda3/lib/python3.12/site-packages (from markdown-it-py>=2.2.0->rich>=10.11.0->chromadb->-r requirements.txt (line 4)) (0.1.0)\n",
      "Requirement already satisfied: mypy-extensions>=0.3.0 in /home/the-ape/anaconda3/lib/python3.12/site-packages (from typing-inspect<1,>=0.4.0->dataclasses-json<0.7,>=0.5.7->langchain_community->-r requirements.txt (line 6)) (1.0.0)\n",
      "Requirement already satisfied: humanfriendly>=9.1 in /home/the-ape/anaconda3/lib/python3.12/site-packages (from coloredlogs->onnxruntime>=1.14.1->chromadb->-r requirements.txt (line 4)) (10.0)\n",
      "Requirement already satisfied: mpmath<1.4,>=1.1.0 in /home/the-ape/anaconda3/lib/python3.12/site-packages (from sympy->onnxruntime>=1.14.1->chromadb->-r requirements.txt (line 4)) (1.3.0)\n",
      "Requirement already satisfied: pyasn1<0.5.0,>=0.4.6 in /home/the-ape/anaconda3/lib/python3.12/site-packages (from pyasn1-modules>=0.2.1->google-auth>=1.0.1->kubernetes>=28.1.0->chromadb->-r requirements.txt (line 4)) (0.4.8)\n",
      "Downloading langchain_community-0.3.23-py3-none-any.whl (2.5 MB)\n",
      "\u001b[2K   \u001b[38;2;114;156;31m━━━━━━━━━━━━━━━━━━━━━━━━━━━━━━━━━━━━━━━━\u001b[0m \u001b[32m2.5/2.5 MB\u001b[0m \u001b[31m1.1 MB/s\u001b[0m eta \u001b[36m0:00:00\u001b[0m.2 kB/s\u001b[0m eta \u001b[36m0:00:01\u001b[0m:02\u001b[0m\n",
      "\u001b[?25hUsing cached dataclasses_json-0.6.7-py3-none-any.whl (28 kB)\n",
      "Using cached httpx_sse-0.4.0-py3-none-any.whl (7.8 kB)\n",
      "Using cached marshmallow-3.26.1-py3-none-any.whl (50 kB)\n",
      "Using cached typing_inspect-0.9.0-py3-none-any.whl (8.8 kB)\n",
      "Installing collected packages: typing-inspect, marshmallow, httpx-sse, dataclasses-json, langchain_community\n",
      "Successfully installed dataclasses-json-0.6.7 httpx-sse-0.4.0 langchain_community-0.3.23 marshmallow-3.26.1 typing-inspect-0.9.0\n",
      "Note: you may need to restart the kernel to use updated packages.\n"
     ]
    }
   ],
   "source": [
    "# pip install -r requirements.txt"
   ]
  },
  {
   "cell_type": "code",
   "execution_count": 9,
   "id": "1cb2ee1b-0013-436c-85b0-ec97009624c9",
   "metadata": {},
   "outputs": [
    {
     "name": "stderr",
     "output_type": "stream",
     "text": [
      "USER_AGENT environment variable not set, consider setting it to identify your requests.\n"
     ]
    }
   ],
   "source": [
    "import bs4\n",
    "from langchain import hub\n",
    "from langchain.text_splitter import RecursiveCharacterTextSplitter\n",
    "from langchain_community.document_loaders import WebBaseLoader\n",
    "from langchain_community.vectorstores import Chroma\n",
    "from langchain_core.output_parsers import StrOutputParser\n",
    "from langchain_core.runnables import RunnablePassthrough\n",
    "from langchain_openai import ChatOpenAI, OpenAIEmbeddings"
   ]
  },
  {
   "cell_type": "code",
   "execution_count": 10,
   "id": "21d6e726-b39c-41d9-890c-1b9899424622",
   "metadata": {},
   "outputs": [],
   "source": [
    "#### INDEXING ####\n",
    "\n",
    "# Load Documents\n",
    "loader = WebBaseLoader(\n",
    "    web_paths=(\"https://lilianweng.github.io/posts/2023-06-23-agent/\",),\n",
    "    bs_kwargs=dict(\n",
    "        parse_only=bs4.SoupStrainer(\n",
    "            class_=(\"post-content\", \"post-title\", \"post-header\")\n",
    "        )\n",
    "    ),\n",
    ")\n",
    "docs = loader.load()"
   ]
  },
  {
   "cell_type": "code",
   "execution_count": 12,
   "id": "c06148d2-ab9b-4dd1-8fdb-cccd329b2046",
   "metadata": {},
   "outputs": [],
   "source": [
    "# docs"
   ]
  },
  {
   "cell_type": "code",
   "execution_count": 13,
   "id": "8d7db0b2-47da-45fa-97e6-36d9aa3cff5c",
   "metadata": {},
   "outputs": [
    {
     "ename": "OpenAIError",
     "evalue": "The api_key client option must be set either by passing api_key to the client or by setting the OPENAI_API_KEY environment variable",
     "output_type": "error",
     "traceback": [
      "\u001b[0;31m---------------------------------------------------------------------------\u001b[0m",
      "\u001b[0;31mOpenAIError\u001b[0m                               Traceback (most recent call last)",
      "Cell \u001b[0;32mIn[13], line 7\u001b[0m\n\u001b[1;32m      3\u001b[0m splits \u001b[38;5;241m=\u001b[39m text_splitter\u001b[38;5;241m.\u001b[39msplit_documents(docs)\n\u001b[1;32m      5\u001b[0m \u001b[38;5;66;03m# Embed\u001b[39;00m\n\u001b[1;32m      6\u001b[0m vectorstore \u001b[38;5;241m=\u001b[39m Chroma\u001b[38;5;241m.\u001b[39mfrom_documents(documents\u001b[38;5;241m=\u001b[39msplits, \n\u001b[0;32m----> 7\u001b[0m                                     embedding\u001b[38;5;241m=\u001b[39mOpenAIEmbeddings())\n\u001b[1;32m      9\u001b[0m retriever \u001b[38;5;241m=\u001b[39m vectorstore\u001b[38;5;241m.\u001b[39mas_retriever()\n",
      "    \u001b[0;31m[... skipping hidden 1 frame]\u001b[0m\n",
      "File \u001b[0;32m~/anaconda3/lib/python3.12/site-packages/langchain_openai/embeddings/base.py:326\u001b[0m, in \u001b[0;36mOpenAIEmbeddings.validate_environment\u001b[0;34m(self)\u001b[0m\n\u001b[1;32m    324\u001b[0m         \u001b[38;5;28mself\u001b[39m\u001b[38;5;241m.\u001b[39mhttp_client \u001b[38;5;241m=\u001b[39m httpx\u001b[38;5;241m.\u001b[39mClient(proxy\u001b[38;5;241m=\u001b[39m\u001b[38;5;28mself\u001b[39m\u001b[38;5;241m.\u001b[39mopenai_proxy)\n\u001b[1;32m    325\u001b[0m     sync_specific \u001b[38;5;241m=\u001b[39m {\u001b[38;5;124m\"\u001b[39m\u001b[38;5;124mhttp_client\u001b[39m\u001b[38;5;124m\"\u001b[39m: \u001b[38;5;28mself\u001b[39m\u001b[38;5;241m.\u001b[39mhttp_client}\n\u001b[0;32m--> 326\u001b[0m     \u001b[38;5;28mself\u001b[39m\u001b[38;5;241m.\u001b[39mclient \u001b[38;5;241m=\u001b[39m openai\u001b[38;5;241m.\u001b[39mOpenAI(\u001b[38;5;241m*\u001b[39m\u001b[38;5;241m*\u001b[39mclient_params, \u001b[38;5;241m*\u001b[39m\u001b[38;5;241m*\u001b[39msync_specific)\u001b[38;5;241m.\u001b[39membeddings  \u001b[38;5;66;03m# type: ignore[arg-type]\u001b[39;00m\n\u001b[1;32m    327\u001b[0m \u001b[38;5;28;01mif\u001b[39;00m \u001b[38;5;129;01mnot\u001b[39;00m \u001b[38;5;28mself\u001b[39m\u001b[38;5;241m.\u001b[39masync_client:\n\u001b[1;32m    328\u001b[0m     \u001b[38;5;28;01mif\u001b[39;00m \u001b[38;5;28mself\u001b[39m\u001b[38;5;241m.\u001b[39mopenai_proxy \u001b[38;5;129;01mand\u001b[39;00m \u001b[38;5;129;01mnot\u001b[39;00m \u001b[38;5;28mself\u001b[39m\u001b[38;5;241m.\u001b[39mhttp_async_client:\n",
      "File \u001b[0;32m~/anaconda3/lib/python3.12/site-packages/openai/_client.py:116\u001b[0m, in \u001b[0;36mOpenAI.__init__\u001b[0;34m(self, api_key, organization, project, base_url, websocket_base_url, timeout, max_retries, default_headers, default_query, http_client, _strict_response_validation)\u001b[0m\n\u001b[1;32m    114\u001b[0m     api_key \u001b[38;5;241m=\u001b[39m os\u001b[38;5;241m.\u001b[39menviron\u001b[38;5;241m.\u001b[39mget(\u001b[38;5;124m\"\u001b[39m\u001b[38;5;124mOPENAI_API_KEY\u001b[39m\u001b[38;5;124m\"\u001b[39m)\n\u001b[1;32m    115\u001b[0m \u001b[38;5;28;01mif\u001b[39;00m api_key \u001b[38;5;129;01mis\u001b[39;00m \u001b[38;5;28;01mNone\u001b[39;00m:\n\u001b[0;32m--> 116\u001b[0m     \u001b[38;5;28;01mraise\u001b[39;00m OpenAIError(\n\u001b[1;32m    117\u001b[0m         \u001b[38;5;124m\"\u001b[39m\u001b[38;5;124mThe api_key client option must be set either by passing api_key to the client or by setting the OPENAI_API_KEY environment variable\u001b[39m\u001b[38;5;124m\"\u001b[39m\n\u001b[1;32m    118\u001b[0m     )\n\u001b[1;32m    119\u001b[0m \u001b[38;5;28mself\u001b[39m\u001b[38;5;241m.\u001b[39mapi_key \u001b[38;5;241m=\u001b[39m api_key\n\u001b[1;32m    121\u001b[0m \u001b[38;5;28;01mif\u001b[39;00m organization \u001b[38;5;129;01mis\u001b[39;00m \u001b[38;5;28;01mNone\u001b[39;00m:\n",
      "\u001b[0;31mOpenAIError\u001b[0m: The api_key client option must be set either by passing api_key to the client or by setting the OPENAI_API_KEY environment variable"
     ]
    }
   ],
   "source": [
    "# Split\n",
    "text_splitter = RecursiveCharacterTextSplitter(chunk_size=1000, chunk_overlap=200)\n",
    "splits = text_splitter.split_documents(docs)\n",
    "\n",
    "# Embed\n",
    "vectorstore = Chroma.from_documents(documents=splits, \n",
    "                                    embedding=OpenAIEmbeddings())\n",
    "\n",
    "retriever = vectorstore.as_retriever()"
   ]
  },
  {
   "cell_type": "code",
   "execution_count": null,
   "id": "61c10b08-281b-4a5d-9f85-3fd97dd68ef4",
   "metadata": {},
   "outputs": [],
   "source": [
    "\n",
    "\n",
    "\n",
    "\n",
    "\n",
    "\n",
    "#### RETRIEVAL and GENERATION ####\n",
    "\n",
    "# Prompt\n",
    "prompt = hub.pull(\"rlm/rag-prompt\")\n",
    "\n",
    "# LLM\n",
    "llm = ChatOpenAI(model_name=\"gpt-3.5-turbo\", temperature=0)\n",
    "\n",
    "# Post-processing\n",
    "def format_docs(docs):\n",
    "    return \"\\n\\n\".join(doc.page_content for doc in docs)\n",
    "\n",
    "# Chain\n",
    "rag_chain = (\n",
    "    {\"context\": retriever | format_docs, \"question\": RunnablePassthrough()}\n",
    "    | prompt\n",
    "    | llm\n",
    "    | StrOutputParser()\n",
    ")\n",
    "\n",
    "# Question\n",
    "rag_chain.invoke(\"What is Task Decomposition?\")"
   ]
  }
 ],
 "metadata": {
  "kernelspec": {
   "display_name": "Python 3 (ipykernel)",
   "language": "python",
   "name": "python3"
  },
  "language_info": {
   "codemirror_mode": {
    "name": "ipython",
    "version": 3
   },
   "file_extension": ".py",
   "mimetype": "text/x-python",
   "name": "python",
   "nbconvert_exporter": "python",
   "pygments_lexer": "ipython3",
   "version": "3.12.7"
  }
 },
 "nbformat": 4,
 "nbformat_minor": 5
}
